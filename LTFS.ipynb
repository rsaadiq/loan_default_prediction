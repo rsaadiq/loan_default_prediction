{
 "cells": [
  {
   "cell_type": "code",
   "execution_count": 1,
   "metadata": {},
   "outputs": [],
   "source": [
    "import numpy as np\n",
    "import pandas as pd\n",
    "import matplotlib.pyplot as plt\n",
    "from datetime import date\n",
    "import seaborn as sns\n",
    "from sklearn.model_selection import train_test_split\n",
    "from sklearn.metrics import roc_auc_score, confusion_matrix\n",
    "from sklearn.linear_model import LogisticRegression\n",
    "from xgboost import XGBClassifier\n",
    "import warnings\n",
    "warnings.filterwarnings('ignore')\n",
    "from sklearn.tree import DecisionTreeClassifier\n",
    "from sklearn.ensemble import RandomForestClassifier\n",
    "import lightgbm as lgb\n",
    "from bayes_opt import BayesianOptimization\n",
    "from imblearn.over_sampling import SMOTE\n",
    "from sklearn.svm import SVC"
   ]
  },
  {
   "cell_type": "code",
   "execution_count": 2,
   "metadata": {},
   "outputs": [
    {
     "data": {
      "text/html": [
       "<div>\n",
       "<style scoped>\n",
       "    .dataframe tbody tr th:only-of-type {\n",
       "        vertical-align: middle;\n",
       "    }\n",
       "\n",
       "    .dataframe tbody tr th {\n",
       "        vertical-align: top;\n",
       "    }\n",
       "\n",
       "    .dataframe thead th {\n",
       "        text-align: right;\n",
       "    }\n",
       "</style>\n",
       "<table border=\"1\" class=\"dataframe\">\n",
       "  <thead>\n",
       "    <tr style=\"text-align: right;\">\n",
       "      <th></th>\n",
       "      <th>UniqueID</th>\n",
       "      <th>disbursed_amount</th>\n",
       "      <th>asset_cost</th>\n",
       "      <th>ltv</th>\n",
       "      <th>branch_id</th>\n",
       "      <th>supplier_id</th>\n",
       "      <th>manufacturer_id</th>\n",
       "      <th>Current_pincode_ID</th>\n",
       "      <th>Date.of.Birth</th>\n",
       "      <th>Employment.Type</th>\n",
       "      <th>...</th>\n",
       "      <th>SEC.SANCTIONED.AMOUNT</th>\n",
       "      <th>SEC.DISBURSED.AMOUNT</th>\n",
       "      <th>PRIMARY.INSTAL.AMT</th>\n",
       "      <th>SEC.INSTAL.AMT</th>\n",
       "      <th>NEW.ACCTS.IN.LAST.SIX.MONTHS</th>\n",
       "      <th>DELINQUENT.ACCTS.IN.LAST.SIX.MONTHS</th>\n",
       "      <th>AVERAGE.ACCT.AGE</th>\n",
       "      <th>CREDIT.HISTORY.LENGTH</th>\n",
       "      <th>NO.OF_INQUIRIES</th>\n",
       "      <th>loan_default</th>\n",
       "    </tr>\n",
       "  </thead>\n",
       "  <tbody>\n",
       "    <tr>\n",
       "      <th>0</th>\n",
       "      <td>420825</td>\n",
       "      <td>50578</td>\n",
       "      <td>58400</td>\n",
       "      <td>89.55</td>\n",
       "      <td>67</td>\n",
       "      <td>22807</td>\n",
       "      <td>45</td>\n",
       "      <td>1441</td>\n",
       "      <td>1/1/1984</td>\n",
       "      <td>Salaried</td>\n",
       "      <td>...</td>\n",
       "      <td>0</td>\n",
       "      <td>0</td>\n",
       "      <td>0</td>\n",
       "      <td>0</td>\n",
       "      <td>0</td>\n",
       "      <td>0</td>\n",
       "      <td>0yrs 0mon</td>\n",
       "      <td>0yrs 0mon</td>\n",
       "      <td>0</td>\n",
       "      <td>0</td>\n",
       "    </tr>\n",
       "    <tr>\n",
       "      <th>1</th>\n",
       "      <td>537409</td>\n",
       "      <td>47145</td>\n",
       "      <td>65550</td>\n",
       "      <td>73.23</td>\n",
       "      <td>67</td>\n",
       "      <td>22807</td>\n",
       "      <td>45</td>\n",
       "      <td>1502</td>\n",
       "      <td>31-07-85</td>\n",
       "      <td>Self employed</td>\n",
       "      <td>...</td>\n",
       "      <td>0</td>\n",
       "      <td>0</td>\n",
       "      <td>1991</td>\n",
       "      <td>0</td>\n",
       "      <td>0</td>\n",
       "      <td>1</td>\n",
       "      <td>1yrs 11mon</td>\n",
       "      <td>1yrs 11mon</td>\n",
       "      <td>0</td>\n",
       "      <td>1</td>\n",
       "    </tr>\n",
       "    <tr>\n",
       "      <th>2</th>\n",
       "      <td>417566</td>\n",
       "      <td>53278</td>\n",
       "      <td>61360</td>\n",
       "      <td>89.63</td>\n",
       "      <td>67</td>\n",
       "      <td>22807</td>\n",
       "      <td>45</td>\n",
       "      <td>1497</td>\n",
       "      <td>24-08-85</td>\n",
       "      <td>Self employed</td>\n",
       "      <td>...</td>\n",
       "      <td>0</td>\n",
       "      <td>0</td>\n",
       "      <td>0</td>\n",
       "      <td>0</td>\n",
       "      <td>0</td>\n",
       "      <td>0</td>\n",
       "      <td>0yrs 0mon</td>\n",
       "      <td>0yrs 0mon</td>\n",
       "      <td>0</td>\n",
       "      <td>0</td>\n",
       "    </tr>\n",
       "    <tr>\n",
       "      <th>3</th>\n",
       "      <td>624493</td>\n",
       "      <td>57513</td>\n",
       "      <td>66113</td>\n",
       "      <td>88.48</td>\n",
       "      <td>67</td>\n",
       "      <td>22807</td>\n",
       "      <td>45</td>\n",
       "      <td>1501</td>\n",
       "      <td>30-12-93</td>\n",
       "      <td>Self employed</td>\n",
       "      <td>...</td>\n",
       "      <td>0</td>\n",
       "      <td>0</td>\n",
       "      <td>31</td>\n",
       "      <td>0</td>\n",
       "      <td>0</td>\n",
       "      <td>0</td>\n",
       "      <td>0yrs 8mon</td>\n",
       "      <td>1yrs 3mon</td>\n",
       "      <td>1</td>\n",
       "      <td>1</td>\n",
       "    </tr>\n",
       "    <tr>\n",
       "      <th>4</th>\n",
       "      <td>539055</td>\n",
       "      <td>52378</td>\n",
       "      <td>60300</td>\n",
       "      <td>88.39</td>\n",
       "      <td>67</td>\n",
       "      <td>22807</td>\n",
       "      <td>45</td>\n",
       "      <td>1495</td>\n",
       "      <td>12/9/1977</td>\n",
       "      <td>Self employed</td>\n",
       "      <td>...</td>\n",
       "      <td>0</td>\n",
       "      <td>0</td>\n",
       "      <td>0</td>\n",
       "      <td>0</td>\n",
       "      <td>0</td>\n",
       "      <td>0</td>\n",
       "      <td>0yrs 0mon</td>\n",
       "      <td>0yrs 0mon</td>\n",
       "      <td>1</td>\n",
       "      <td>1</td>\n",
       "    </tr>\n",
       "  </tbody>\n",
       "</table>\n",
       "<p>5 rows × 41 columns</p>\n",
       "</div>"
      ],
      "text/plain": [
       "   UniqueID  disbursed_amount  asset_cost    ltv  branch_id  supplier_id  \\\n",
       "0    420825             50578       58400  89.55         67        22807   \n",
       "1    537409             47145       65550  73.23         67        22807   \n",
       "2    417566             53278       61360  89.63         67        22807   \n",
       "3    624493             57513       66113  88.48         67        22807   \n",
       "4    539055             52378       60300  88.39         67        22807   \n",
       "\n",
       "   manufacturer_id  Current_pincode_ID Date.of.Birth Employment.Type  ...  \\\n",
       "0               45                1441      1/1/1984        Salaried  ...   \n",
       "1               45                1502      31-07-85   Self employed  ...   \n",
       "2               45                1497      24-08-85   Self employed  ...   \n",
       "3               45                1501      30-12-93   Self employed  ...   \n",
       "4               45                1495     12/9/1977   Self employed  ...   \n",
       "\n",
       "  SEC.SANCTIONED.AMOUNT  SEC.DISBURSED.AMOUNT  PRIMARY.INSTAL.AMT  \\\n",
       "0                     0                     0                   0   \n",
       "1                     0                     0                1991   \n",
       "2                     0                     0                   0   \n",
       "3                     0                     0                  31   \n",
       "4                     0                     0                   0   \n",
       "\n",
       "   SEC.INSTAL.AMT  NEW.ACCTS.IN.LAST.SIX.MONTHS  \\\n",
       "0               0                             0   \n",
       "1               0                             0   \n",
       "2               0                             0   \n",
       "3               0                             0   \n",
       "4               0                             0   \n",
       "\n",
       "   DELINQUENT.ACCTS.IN.LAST.SIX.MONTHS  AVERAGE.ACCT.AGE  \\\n",
       "0                                    0         0yrs 0mon   \n",
       "1                                    1        1yrs 11mon   \n",
       "2                                    0         0yrs 0mon   \n",
       "3                                    0         0yrs 8mon   \n",
       "4                                    0         0yrs 0mon   \n",
       "\n",
       "   CREDIT.HISTORY.LENGTH  NO.OF_INQUIRIES  loan_default  \n",
       "0              0yrs 0mon                0             0  \n",
       "1             1yrs 11mon                0             1  \n",
       "2              0yrs 0mon                0             0  \n",
       "3              1yrs 3mon                1             1  \n",
       "4              0yrs 0mon                1             1  \n",
       "\n",
       "[5 rows x 41 columns]"
      ]
     },
     "execution_count": 2,
     "metadata": {},
     "output_type": "execute_result"
    }
   ],
   "source": [
    "data = pd.read_csv('train.csv')\n",
    "test = pd.read_csv('test_bqCt9Pv.csv')\n",
    "data.head()"
   ]
  },
  {
   "cell_type": "code",
   "execution_count": 28,
   "metadata": {},
   "outputs": [
    {
     "data": {
      "text/plain": [
       "0    182543\n",
       "1     50611\n",
       "Name: loan_default, dtype: int64"
      ]
     },
     "execution_count": 28,
     "metadata": {},
     "output_type": "execute_result"
    }
   ],
   "source": [
    "data.loan_default.value_counts()"
   ]
  },
  {
   "cell_type": "code",
   "execution_count": 3,
   "metadata": {},
   "outputs": [],
   "source": [
    "a = pd.to_datetime(data['Date.of.Birth'])\n",
    "a = a.dt.strftime('%y')\n",
    "a = a.astype(int)\n",
    "b = pd.to_datetime(test['Date.of.Birth'])\n",
    "b = b.dt.strftime('%y')\n",
    "b = b.astype(int)\n",
    "data.insert(8, value = a, column = 'B.year')\n",
    "test.insert(8, value = b, column = 'B.year')"
   ]
  },
  {
   "cell_type": "code",
   "execution_count": 4,
   "metadata": {},
   "outputs": [],
   "source": [
    "c = pd.to_datetime(data['DisbursalDate'])\n",
    "c = c.dt.strftime('%d')\n",
    "c = c.astype(int)\n",
    "d = pd.to_datetime(test['DisbursalDate'])\n",
    "d = d.dt.strftime('%d')\n",
    "d = d.astype(int)\n",
    "data.insert(9, value = c, column = 'DM')\n",
    "test.insert(9, value = d, column = 'DM')"
   ]
  },
  {
   "cell_type": "code",
   "execution_count": 5,
   "metadata": {},
   "outputs": [],
   "source": [
    "e = []\n",
    "for day in data.DM:\n",
    "    if 11 <= day <= 20:\n",
    "        e.append('GR1')\n",
    "    else:\n",
    "        e.append('GR2')"
   ]
  },
  {
   "cell_type": "code",
   "execution_count": 6,
   "metadata": {},
   "outputs": [],
   "source": [
    "f = []\n",
    "for day in test.DM:\n",
    "    if 11 <= day <= 20:\n",
    "        f.append('GR1')\n",
    "    else:\n",
    "        f.append('GR2')"
   ]
  },
  {
   "cell_type": "code",
   "execution_count": 7,
   "metadata": {},
   "outputs": [],
   "source": [
    "data.insert(10, value = e, column = 'DisbursalGroup')\n",
    "test.insert(10, value = f, column = 'DisbursalGroup')"
   ]
  },
  {
   "cell_type": "code",
   "execution_count": 8,
   "metadata": {},
   "outputs": [],
   "source": [
    "data['Employment.Type'].fillna(value = 'Unknown', inplace = True )\n",
    "test['Employment.Type'].fillna(value = 'Unknown', inplace = True )"
   ]
  },
  {
   "cell_type": "code",
   "execution_count": 9,
   "metadata": {},
   "outputs": [
    {
     "data": {
      "text/plain": [
       "Index(['UniqueID', 'disbursed_amount', 'asset_cost', 'ltv', 'branch_id',\n",
       "       'supplier_id', 'manufacturer_id', 'Current_pincode_ID', 'B.year', 'DM',\n",
       "       'DisbursalGroup', 'Date.of.Birth', 'Employment.Type', 'DisbursalDate',\n",
       "       'State_ID', 'Employee_code_ID', 'MobileNo_Avl_Flag', 'Aadhar_flag',\n",
       "       'PAN_flag', 'VoterID_flag', 'Driving_flag', 'Passport_flag',\n",
       "       'PERFORM_CNS.SCORE', 'PERFORM_CNS.SCORE.DESCRIPTION', 'PRI.NO.OF.ACCTS',\n",
       "       'PRI.ACTIVE.ACCTS', 'PRI.OVERDUE.ACCTS', 'PRI.CURRENT.BALANCE',\n",
       "       'PRI.SANCTIONED.AMOUNT', 'PRI.DISBURSED.AMOUNT', 'SEC.NO.OF.ACCTS',\n",
       "       'SEC.ACTIVE.ACCTS', 'SEC.OVERDUE.ACCTS', 'SEC.CURRENT.BALANCE',\n",
       "       'SEC.SANCTIONED.AMOUNT', 'SEC.DISBURSED.AMOUNT', 'PRIMARY.INSTAL.AMT',\n",
       "       'SEC.INSTAL.AMT', 'NEW.ACCTS.IN.LAST.SIX.MONTHS',\n",
       "       'DELINQUENT.ACCTS.IN.LAST.SIX.MONTHS', 'AVERAGE.ACCT.AGE',\n",
       "       'CREDIT.HISTORY.LENGTH', 'NO.OF_INQUIRIES', 'loan_default'],\n",
       "      dtype='object')"
      ]
     },
     "execution_count": 9,
     "metadata": {},
     "output_type": "execute_result"
    }
   ],
   "source": [
    "data.columns"
   ]
  },
  {
   "cell_type": "code",
   "execution_count": 9,
   "metadata": {},
   "outputs": [],
   "source": [
    "data = pd.get_dummies(data, columns = ['Employment.Type', 'PERFORM_CNS.SCORE.DESCRIPTION', 'DisbursalGroup'])\n",
    "test = pd.get_dummies(test, columns = ['Employment.Type', 'PERFORM_CNS.SCORE.DESCRIPTION', 'DisbursalGroup'])"
   ]
  },
  {
   "cell_type": "code",
   "execution_count": 10,
   "metadata": {},
   "outputs": [],
   "source": [
    "data['ad'] = data.Aadhar_flag + data.Driving_flag\n",
    "test['ad'] = test.Aadhar_flag + test.Driving_flag"
   ]
  },
  {
   "cell_type": "code",
   "execution_count": 11,
   "metadata": {},
   "outputs": [],
   "source": [
    "skip = ['Date.of.Birth', 'DisbursalDate','DM', \n",
    "        'PERFORM_CNS.SCORE.DESCRIPTION_Not Scored: More than 50 active Accounts found','CREDIT.HISTORY.LENGTH',\n",
    "       'AVERAGE.ACCT.AGE']\n",
    "y = ['loan_default']\n",
    "X = [x for x in data.columns if x not in y+skip]"
   ]
  },
  {
   "cell_type": "code",
   "execution_count": 12,
   "metadata": {},
   "outputs": [
    {
     "name": "stdout",
     "output_type": "stream",
     "text": [
      "(233154, 60)\n",
      "(233154, 1)\n",
      "(112392, 60)\n"
     ]
    }
   ],
   "source": [
    "xtr = data[X]\n",
    "ytr = data[y]\n",
    "xts = test[X]\n",
    "print(xtr.shape)\n",
    "print(ytr.shape)\n",
    "print(xts.shape)"
   ]
  },
  {
   "cell_type": "code",
   "execution_count": 13,
   "metadata": {},
   "outputs": [
    {
     "name": "stdout",
     "output_type": "stream",
     "text": [
      "(186523, 60)\n",
      "(186523, 1)\n",
      "(46631, 60)\n",
      "(46631, 1)\n"
     ]
    }
   ],
   "source": [
    "xtr, xv, ytr, yv = train_test_split(xtr, ytr, test_size = 0.20, random_state = 0)\n",
    "print(xtr.shape)\n",
    "print(ytr.shape)\n",
    "print(xv.shape)\n",
    "print(yv.shape)"
   ]
  },
  {
   "cell_type": "code",
   "execution_count": 15,
   "metadata": {},
   "outputs": [
    {
     "data": {
      "text/plain": [
       "0.5717407803048926"
      ]
     },
     "execution_count": 15,
     "metadata": {},
     "output_type": "execute_result"
    }
   ],
   "source": [
    "model_lr = LogisticRegression().fit(xtr, ytr)\n",
    "yp = model_lr.predict_proba(xtr)\n",
    "yp = yp[:,1]\n",
    "roc_auc_score(ytr, yp)"
   ]
  },
  {
   "cell_type": "code",
   "execution_count": 188,
   "metadata": {},
   "outputs": [],
   "source": [
    "ypts = model_lr.predict_proba(xts)\n",
    "ypts = ypts[:,1]\n",
    "sub = test[['UniqueID']]\n",
    "sub['loan_default'] = ypts\n",
    "sub.to_csv('sub_lr2.csv', index = False)"
   ]
  },
  {
   "cell_type": "code",
   "execution_count": 238,
   "metadata": {},
   "outputs": [
    {
     "data": {
      "text/plain": [
       "<bound method XGBModel.get_params of XGBClassifier(base_score=0.5, booster='gbtree', colsample_bylevel=1,\n",
       "       colsample_bytree=1, gamma=0, learning_rate=0.1, max_delta_step=0,\n",
       "       max_depth=3, min_child_weight=1, missing=None, n_estimators=100,\n",
       "       n_jobs=1, nthread=None, objective='binary:logistic', random_state=0,\n",
       "       reg_alpha=0, reg_lambda=1, scale_pos_weight=1, seed=None,\n",
       "       silent=True, subsample=1)>"
      ]
     },
     "execution_count": 238,
     "metadata": {},
     "output_type": "execute_result"
    }
   ],
   "source": [
    "model_xgb.get_params"
   ]
  },
  {
   "cell_type": "code",
   "execution_count": 16,
   "metadata": {},
   "outputs": [
    {
     "name": "stdout",
     "output_type": "stream",
     "text": [
      "Model Report:\n",
      "Train auc: 0.6643366171978543\n",
      "Validation auc: 0.6528054884944351\n"
     ]
    }
   ],
   "source": [
    "model_xgb = XGBClassifier(colsample_bylevel=0.85, n_estimators= 200, max_depth= 2, reg_lambda=3.5,\n",
    "                         reg_alpha=1.5, min_child_weight= 6, max_delta_step = 8).fit(xtr,ytr)\n",
    "yp = model_xgb.predict_proba(xtr)\n",
    "yp = yp[:,1]\n",
    "print('Model Report:')\n",
    "print('Train auc:', roc_auc_score(ytr, yp))\n",
    "ypv = model_xgb.predict_proba(xv)\n",
    "ypv = ypv[:,1]\n",
    "print('Validation auc:', roc_auc_score(yv, ypv))"
   ]
  },
  {
   "cell_type": "code",
   "execution_count": 17,
   "metadata": {},
   "outputs": [
    {
     "data": {
      "text/plain": [
       "array([[145803,    126],\n",
       "       [ 40425,    169]], dtype=int64)"
      ]
     },
     "execution_count": 17,
     "metadata": {},
     "output_type": "execute_result"
    }
   ],
   "source": [
    "yptr = model_xgb.predict(xtr)\n",
    "confusion_matrix(ytr, yptr)"
   ]
  },
  {
   "cell_type": "code",
   "execution_count": 122,
   "metadata": {},
   "outputs": [
    {
     "data": {
      "text/plain": [
       "array([[36614,     0],\n",
       "       [10017,     0]], dtype=int64)"
      ]
     },
     "execution_count": 122,
     "metadata": {},
     "output_type": "execute_result"
    }
   ],
   "source": [
    "ypvc = model_xgb.predict(xv)\n",
    "confusion_matrix(yv,ypvc)"
   ]
  },
  {
   "cell_type": "code",
   "execution_count": 123,
   "metadata": {},
   "outputs": [],
   "source": [
    "ypts = model_xgb.predict_proba(xts)\n",
    "ypts = ypts[:,1]\n",
    "sub = test[['UniqueID']]\n",
    "sub['loan_default'] = ypts\n",
    "sub.to_csv('sub_xgb12.csv', index = False)"
   ]
  },
  {
   "cell_type": "code",
   "execution_count": 125,
   "metadata": {},
   "outputs": [
    {
     "name": "stdout",
     "output_type": "stream",
     "text": [
      "(186523, 60)\n",
      "(186523, 1)\n",
      "(46631, 60)\n",
      "(46631, 1)\n"
     ]
    }
   ],
   "source": [
    "xtr, xv, ytr, yv = train_test_split(xtr, ytr, test_size = 0.2, random_state = 0)\n",
    "print(xtr.shape)\n",
    "print(ytr.shape)\n",
    "print(xv.shape)\n",
    "print(yv.shape)"
   ]
  },
  {
   "cell_type": "code",
   "execution_count": 126,
   "metadata": {},
   "outputs": [],
   "source": [
    "train_data = lgb.Dataset(xtr, label = ytr)\n",
    "val_data = lgb.Dataset(xv, label = yv)"
   ]
  },
  {
   "cell_type": "code",
   "execution_count": 127,
   "metadata": {},
   "outputs": [
    {
     "name": "stdout",
     "output_type": "stream",
     "text": [
      "Training until validation scores don't improve for 4000 rounds.\n",
      "[2000]\tvalid_0's auc: 0.654262\n",
      "[4000]\tvalid_0's auc: 0.65617\n",
      "[6000]\tvalid_0's auc: 0.656935\n",
      "[8000]\tvalid_0's auc: 0.65733\n",
      "[10000]\tvalid_0's auc: 0.657891\n",
      "[12000]\tvalid_0's auc: 0.658329\n",
      "[14000]\tvalid_0's auc: 0.658267\n",
      "[16000]\tvalid_0's auc: 0.65848\n",
      "[18000]\tvalid_0's auc: 0.658656\n",
      "[20000]\tvalid_0's auc: 0.658932\n",
      "[22000]\tvalid_0's auc: 0.659342\n",
      "[24000]\tvalid_0's auc: 0.659298\n",
      "[26000]\tvalid_0's auc: 0.659506\n",
      "[28000]\tvalid_0's auc: 0.659335\n",
      "[30000]\tvalid_0's auc: 0.659475\n",
      "Early stopping, best iteration is:\n",
      "[26120]\tvalid_0's auc: 0.659693\n"
     ]
    }
   ],
   "source": [
    "param = {\"num_leaves\": 2,\n",
    "         \"learning_rate\": 0.1,\n",
    "         \"objective\":'binary', \n",
    "         \"scale_pos_weight\": 0.23,\n",
    "         \"metric\": 'auc',\n",
    "        \"bagging_fraction\" : 0.5,\n",
    "        \"feature_fraction\" : 1,\n",
    "        \"bagging_freq\" : 2,\n",
    "        \"reg_alpha\" : 4.5,\n",
    "        \"reg_lambda\" : 1.5,\n",
    "        \"random_state\" : 0,\n",
    "        \"bagging_seed\" : 300,\n",
    "        \"verbosity\" : -1,\n",
    "        \"max_depth\": 1,\n",
    "        \"min_child_samples\": 50,\n",
    "        \"save_binary\": True}\n",
    "mlgb = lgb.train(param, train_data, 200000, valid_sets = [val_data], early_stopping_rounds = 4000, verbose_eval=2000)"
   ]
  },
  {
   "cell_type": "code",
   "execution_count": 128,
   "metadata": {},
   "outputs": [
    {
     "data": {
      "text/plain": [
       "0.6809313245495154"
      ]
     },
     "execution_count": 128,
     "metadata": {},
     "output_type": "execute_result"
    }
   ],
   "source": [
    "yptr = mlgb.predict(xtr, num_iteration = mlgb.best_iteration)\n",
    "roc_auc_score(ytr, yptr)"
   ]
  },
  {
   "cell_type": "code",
   "execution_count": 129,
   "metadata": {},
   "outputs": [],
   "source": [
    "ypts = mlgb.predict(xts, num_iteration = mlgb.best_iteration)\n",
    "sub = test[['UniqueID']]\n",
    "sub['loan_default'] = ypts\n",
    "sub.to_csv('sub_mlgb23.csv', index = False)"
   ]
  },
  {
   "cell_type": "code",
   "execution_count": 822,
   "metadata": {},
   "outputs": [
    {
     "name": "stdout",
     "output_type": "stream",
     "text": [
      "|   iter    |  target   | baggin... | featur... | min_ch... | reg_alpha | reg_la... | scale_... |\n",
      "-------------------------------------------------------------------------------------------------\n",
      "[20000]\tcv_agg's auc: 0.662123 + 0.00124179\n",
      "[40000]\tcv_agg's auc: 0.662391 + 0.000974952\n",
      "| \u001b[0m 1       \u001b[0m | \u001b[0m 0.6624  \u001b[0m | \u001b[0m 0.5939  \u001b[0m | \u001b[0m 0.7437  \u001b[0m | \u001b[0m 128.5   \u001b[0m | \u001b[0m 3.042   \u001b[0m | \u001b[0m 2.388   \u001b[0m | \u001b[0m 0.6167  \u001b[0m |\n",
      "[20000]\tcv_agg's auc: 0.662012 + 0.00123188\n",
      "| \u001b[0m 2       \u001b[0m | \u001b[0m 0.6622  \u001b[0m | \u001b[0m 0.4938  \u001b[0m | \u001b[0m 0.9026  \u001b[0m | \u001b[0m 193.5   \u001b[0m | \u001b[0m 2.171   \u001b[0m | \u001b[0m 4.375   \u001b[0m | \u001b[0m 0.5231  \u001b[0m |\n",
      "[20000]\tcv_agg's auc: 0.661602 + 0.00098658\n",
      "| \u001b[0m 3       \u001b[0m | \u001b[0m 0.6617  \u001b[0m | \u001b[0m 0.6112  \u001b[0m | \u001b[0m 0.933   \u001b[0m | \u001b[0m 32.79   \u001b[0m | \u001b[0m 0.5705  \u001b[0m | \u001b[0m 0.2092  \u001b[0m | \u001b[0m 0.7661  \u001b[0m |\n",
      "[20000]\tcv_agg's auc: 0.662101 + 0.00136284\n",
      "[40000]\tcv_agg's auc: 0.662379 + 0.00107501\n",
      "| \u001b[95m 4       \u001b[0m | \u001b[95m 0.6624  \u001b[0m | \u001b[95m 0.8003  \u001b[0m | \u001b[95m 0.883   \u001b[0m | \u001b[95m 196.2   \u001b[0m | \u001b[95m 4.415   \u001b[0m | \u001b[95m 2.592   \u001b[0m | \u001b[95m 0.7244  \u001b[0m |\n",
      "[20000]\tcv_agg's auc: 0.661841 + 0.00153677\n",
      "[40000]\tcv_agg's auc: 0.662237 + 0.00135011\n",
      "[60000]\tcv_agg's auc: 0.66234 + 0.00127539\n",
      "[80000]\tcv_agg's auc: 0.662393 + 0.00120677\n",
      "[100000]\tcv_agg's auc: 0.662414 + 0.00114884\n",
      "| \u001b[95m 5       \u001b[0m | \u001b[95m 0.6624  \u001b[0m | \u001b[95m 0.2064  \u001b[0m | \u001b[95m 0.6759  \u001b[0m | \u001b[95m 45.8    \u001b[0m | \u001b[95m 5.201   \u001b[0m | \u001b[95m 2.918   \u001b[0m | \u001b[95m 0.4317  \u001b[0m |\n",
      "[20000]\tcv_agg's auc: 0.66214 + 0.0012642\n",
      "[40000]\tcv_agg's auc: 0.662415 + 0.00099324\n",
      "| \u001b[95m 6       \u001b[0m | \u001b[95m 0.6624  \u001b[0m | \u001b[95m 0.3381  \u001b[0m | \u001b[95m 0.7968  \u001b[0m | \u001b[95m 102.1   \u001b[0m | \u001b[95m 3.17    \u001b[0m | \u001b[95m 0.2015  \u001b[0m | \u001b[95m 0.5941  \u001b[0m |\n",
      "[20000]\tcv_agg's auc: 0.662004 + 0.00141494\n",
      "[40000]\tcv_agg's auc: 0.662335 + 0.00116254\n",
      "[60000]\tcv_agg's auc: 0.662396 + 0.00102878\n",
      "| \u001b[0m 7       \u001b[0m | \u001b[0m 0.6624  \u001b[0m | \u001b[0m 0.6509  \u001b[0m | \u001b[0m 0.6552  \u001b[0m | \u001b[0m 189.9   \u001b[0m | \u001b[0m 3.782   \u001b[0m | \u001b[0m 2.041   \u001b[0m | \u001b[0m 0.4496  \u001b[0m |\n",
      "[20000]\tcv_agg's auc: 0.661093 + 0.00146822\n",
      "[40000]\tcv_agg's auc: 0.661532 + 0.00139554\n",
      "[60000]\tcv_agg's auc: 0.661716 + 0.00135138\n",
      "[80000]\tcv_agg's auc: 0.661823 + 0.00133168\n",
      "[100000]\tcv_agg's auc: 0.661887 + 0.00131991\n",
      "[120000]\tcv_agg's auc: 0.661927 + 0.00131311\n",
      "[140000]\tcv_agg's auc: 0.661956 + 0.00130819\n",
      "[160000]\tcv_agg's auc: 0.661975 + 0.00130334\n",
      "[180000]\tcv_agg's auc: 0.661991 + 0.00129973\n",
      "[200000]\tcv_agg's auc: 0.662001 + 0.00129728\n",
      "[220000]\tcv_agg's auc: 0.66201 + 0.00129504\n",
      "[240000]\tcv_agg's auc: 0.662016 + 0.00129358\n",
      "[260000]\tcv_agg's auc: 0.662021 + 0.00129232\n",
      "[280000]\tcv_agg's auc: 0.662024 + 0.00129185\n",
      "[300000]\tcv_agg's auc: 0.662027 + 0.00129111\n",
      "[320000]\tcv_agg's auc: 0.662029 + 0.00129075\n",
      "[340000]\tcv_agg's auc: 0.66203 + 0.00129038\n",
      "[360000]\tcv_agg's auc: 0.662031 + 0.00129001\n",
      "[380000]\tcv_agg's auc: 0.662032 + 0.0012898\n",
      "[400000]\tcv_agg's auc: 0.662032 + 0.00128973\n",
      "[420000]\tcv_agg's auc: 0.662033 + 0.00128967\n",
      "[440000]\tcv_agg's auc: 0.662033 + 0.00128963\n",
      "[460000]\tcv_agg's auc: 0.662033 + 0.00128959\n",
      "[480000]\tcv_agg's auc: 0.662033 + 0.00128948\n",
      "[500000]\tcv_agg's auc: 0.662033 + 0.00128943\n",
      "| \u001b[0m 8       \u001b[0m | \u001b[0m 0.662   \u001b[0m | \u001b[0m 0.7279  \u001b[0m | \u001b[0m 0.1542  \u001b[0m | \u001b[0m 140.0   \u001b[0m | \u001b[0m 3.721   \u001b[0m | \u001b[0m 1.236   \u001b[0m | \u001b[0m 0.2031  \u001b[0m |\n",
      "[20000]\tcv_agg's auc: 0.661711 + 0.00151842\n",
      "[40000]\tcv_agg's auc: 0.662118 + 0.00133918\n",
      "[60000]\tcv_agg's auc: 0.662216 + 0.00127178\n",
      "[80000]\tcv_agg's auc: 0.662261 + 0.00119179\n",
      "[100000]\tcv_agg's auc: 0.662289 + 0.00113796\n",
      "[120000]\tcv_agg's auc: 0.6623 + 0.00109381\n",
      "[140000]\tcv_agg's auc: 0.662304 + 0.00106146\n",
      "[160000]\tcv_agg's auc: 0.662307 + 0.00103475\n",
      "| \u001b[0m 9       \u001b[0m | \u001b[0m 0.6623  \u001b[0m | \u001b[0m 0.3839  \u001b[0m | \u001b[0m 0.4273  \u001b[0m | \u001b[0m 122.6   \u001b[0m | \u001b[0m 2.468   \u001b[0m | \u001b[0m 5.437   \u001b[0m | \u001b[0m 0.1816  \u001b[0m |\n",
      "[20000]\tcv_agg's auc: 0.662027 + 0.00119188\n",
      "[40000]\tcv_agg's auc: 0.662272 + 0.000895389\n",
      "| \u001b[0m 10      \u001b[0m | \u001b[0m 0.6623  \u001b[0m | \u001b[0m 0.288   \u001b[0m | \u001b[0m 0.2452  \u001b[0m | \u001b[0m 137.6   \u001b[0m | \u001b[0m 1.468   \u001b[0m | \u001b[0m 2.618   \u001b[0m | \u001b[0m 0.2955  \u001b[0m |\n",
      "[20000]\tcv_agg's auc: 0.6617 + 0.00100208\n",
      "| \u001b[0m 11      \u001b[0m | \u001b[0m 0.6618  \u001b[0m | \u001b[0m 0.2431  \u001b[0m | \u001b[0m 0.1993  \u001b[0m | \u001b[0m 138.1   \u001b[0m | \u001b[0m 0.8462  \u001b[0m | \u001b[0m 1.162   \u001b[0m | \u001b[0m 0.395   \u001b[0m |\n",
      "[20000]\tcv_agg's auc: 0.661673 + 0.00100202\n",
      "| \u001b[0m 12      \u001b[0m | \u001b[0m 0.6618  \u001b[0m | \u001b[0m 0.8389  \u001b[0m | \u001b[0m 0.1874  \u001b[0m | \u001b[0m 170.8   \u001b[0m | \u001b[0m 0.6189  \u001b[0m | \u001b[0m 5.373   \u001b[0m | \u001b[0m 0.4749  \u001b[0m |\n",
      "[20000]\tcv_agg's auc: 0.661697 + 0.00102293\n",
      "| \u001b[0m 13      \u001b[0m | \u001b[0m 0.6618  \u001b[0m | \u001b[0m 0.9791  \u001b[0m | \u001b[0m 0.6444  \u001b[0m | \u001b[0m 153.1   \u001b[0m | \u001b[0m 0.3116  \u001b[0m | \u001b[0m 1.627   \u001b[0m | \u001b[0m 0.1962  \u001b[0m |\n",
      "[20000]\tcv_agg's auc: 0.66199 + 0.00111671\n",
      "[40000]\tcv_agg's auc: 0.662214 + 0.000877822\n",
      "| \u001b[0m 14      \u001b[0m | \u001b[0m 0.6622  \u001b[0m | \u001b[0m 0.3665  \u001b[0m | \u001b[0m 0.2069  \u001b[0m | \u001b[0m 77.24   \u001b[0m | \u001b[0m 2.337   \u001b[0m | \u001b[0m 0.4464  \u001b[0m | \u001b[0m 0.654   \u001b[0m |\n",
      "[20000]\tcv_agg's auc: 0.661765 + 0.00105143\n",
      "| \u001b[0m 15      \u001b[0m | \u001b[0m 0.6618  \u001b[0m | \u001b[0m 0.6099  \u001b[0m | \u001b[0m 0.3389  \u001b[0m | \u001b[0m 114.2   \u001b[0m | \u001b[0m 0.6073  \u001b[0m | \u001b[0m 3.21    \u001b[0m | \u001b[0m 0.8434  \u001b[0m |\n",
      "[20000]\tcv_agg's auc: 0.661546 + 0.00158279\n",
      "[40000]\tcv_agg's auc: 0.661976 + 0.00142791\n",
      "[60000]\tcv_agg's auc: 0.662116 + 0.00136499\n",
      "[80000]\tcv_agg's auc: 0.662164 + 0.00134246\n",
      "[100000]\tcv_agg's auc: 0.662186 + 0.00132504\n",
      "[120000]\tcv_agg's auc: 0.662198 + 0.00130843\n",
      "[140000]\tcv_agg's auc: 0.662203 + 0.00129298\n",
      "[160000]\tcv_agg's auc: 0.662209 + 0.00128009\n",
      "[180000]\tcv_agg's auc: 0.662212 + 0.00127147\n",
      "[200000]\tcv_agg's auc: 0.662215 + 0.00126659\n",
      "[220000]\tcv_agg's auc: 0.662217 + 0.0012623\n",
      "[240000]\tcv_agg's auc: 0.662219 + 0.00125907\n",
      "[260000]\tcv_agg's auc: 0.66222 + 0.00125691\n",
      "| \u001b[0m 16      \u001b[0m | \u001b[0m 0.6622  \u001b[0m | \u001b[0m 0.3867  \u001b[0m | \u001b[0m 0.7007  \u001b[0m | \u001b[0m 43.72   \u001b[0m | \u001b[0m 3.968   \u001b[0m | \u001b[0m 1.663   \u001b[0m | \u001b[0m 0.2466  \u001b[0m |\n",
      "[20000]\tcv_agg's auc: 0.660937 + 0.00071405\n",
      "| \u001b[0m 17      \u001b[0m | \u001b[0m 0.661   \u001b[0m | \u001b[0m 0.6279  \u001b[0m | \u001b[0m 0.1181  \u001b[0m | \u001b[0m 169.2   \u001b[0m | \u001b[0m 0.1254  \u001b[0m | \u001b[0m 3.76    \u001b[0m | \u001b[0m 0.316   \u001b[0m |\n",
      "[20000]\tcv_agg's auc: 0.662141 + 0.00130055\n",
      "[40000]\tcv_agg's auc: 0.662424 + 0.00101759\n",
      "| \u001b[95m 18      \u001b[0m | \u001b[95m 0.6624  \u001b[0m | \u001b[95m 0.7617  \u001b[0m | \u001b[95m 0.966   \u001b[0m | \u001b[95m 64.78   \u001b[0m | \u001b[95m 3.211   \u001b[0m | \u001b[95m 3.297   \u001b[0m | \u001b[95m 0.5578  \u001b[0m |\n",
      "[20000]\tcv_agg's auc: 0.66171 + 0.00156484\n",
      "[40000]\tcv_agg's auc: 0.662139 + 0.00137743\n",
      "[60000]\tcv_agg's auc: 0.66224 + 0.00132733\n",
      "[80000]\tcv_agg's auc: 0.662285 + 0.00128093\n",
      "[100000]\tcv_agg's auc: 0.662316 + 0.00123401\n",
      "[120000]\tcv_agg's auc: 0.662329 + 0.00119887\n",
      "[140000]\tcv_agg's auc: 0.662339 + 0.00117462\n",
      "| \u001b[0m 19      \u001b[0m | \u001b[0m 0.6623  \u001b[0m | \u001b[0m 0.3008  \u001b[0m | \u001b[0m 0.9575  \u001b[0m | \u001b[0m 100.5   \u001b[0m | \u001b[0m 4.671   \u001b[0m | \u001b[0m 3.877   \u001b[0m | \u001b[0m 0.3379  \u001b[0m |\n",
      "[20000]\tcv_agg's auc: 0.66213 + 0.00127359\n",
      "[40000]\tcv_agg's auc: 0.662402 + 0.000997345\n",
      "| \u001b[0m 20      \u001b[0m | \u001b[0m 0.6624  \u001b[0m | \u001b[0m 0.8324  \u001b[0m | \u001b[0m 0.4569  \u001b[0m | \u001b[0m 178.6   \u001b[0m | \u001b[0m 3.239   \u001b[0m | \u001b[0m 4.861   \u001b[0m | \u001b[0m 0.654   \u001b[0m |\n",
      "[20000]\tcv_agg's auc: 0.661065 + 0.00154883\n",
      "[40000]\tcv_agg's auc: 0.661526 + 0.00149303\n",
      "[60000]\tcv_agg's auc: 0.661689 + 0.00144434\n",
      "[80000]\tcv_agg's auc: 0.661783 + 0.00142962\n",
      "[100000]\tcv_agg's auc: 0.661838 + 0.00141894\n",
      "[120000]\tcv_agg's auc: 0.661869 + 0.00141206\n",
      "[140000]\tcv_agg's auc: 0.661889 + 0.00140915\n",
      "[160000]\tcv_agg's auc: 0.661902 + 0.00140597\n",
      "[180000]\tcv_agg's auc: 0.661911 + 0.00140425\n",
      "[200000]\tcv_agg's auc: 0.661917 + 0.0014028\n",
      "[220000]\tcv_agg's auc: 0.661921 + 0.00140186\n",
      "[240000]\tcv_agg's auc: 0.661923 + 0.00140121\n",
      "[260000]\tcv_agg's auc: 0.661925 + 0.00140091\n",
      "[280000]\tcv_agg's auc: 0.661926 + 0.00140059\n",
      "[300000]\tcv_agg's auc: 0.661927 + 0.00140045\n",
      "[320000]\tcv_agg's auc: 0.661928 + 0.00140041\n",
      "[340000]\tcv_agg's auc: 0.661928 + 0.00140029\n",
      "[360000]\tcv_agg's auc: 0.661928 + 0.00140024\n",
      "[380000]\tcv_agg's auc: 0.661929 + 0.00140019\n",
      "[400000]\tcv_agg's auc: 0.661929 + 0.00140022\n",
      "[420000]\tcv_agg's auc: 0.661929 + 0.00140017\n",
      "| \u001b[0m 21      \u001b[0m | \u001b[0m 0.6619  \u001b[0m | \u001b[0m 0.7138  \u001b[0m | \u001b[0m 0.19    \u001b[0m | \u001b[0m 20.11   \u001b[0m | \u001b[0m 4.992   \u001b[0m | \u001b[0m 5.211   \u001b[0m | \u001b[0m 0.259   \u001b[0m |\n"
     ]
    },
    {
     "name": "stdout",
     "output_type": "stream",
     "text": [
      "[20000]\tcv_agg's auc: 0.662061 + 0.00144171\n",
      "[40000]\tcv_agg's auc: 0.662401 + 0.00117947\n",
      "[60000]\tcv_agg's auc: 0.662464 + 0.00104493\n",
      "| \u001b[95m 22      \u001b[0m | \u001b[95m 0.6625  \u001b[0m | \u001b[95m 0.3749  \u001b[0m | \u001b[95m 0.5798  \u001b[0m | \u001b[95m 20.0    \u001b[0m | \u001b[95m 4.876   \u001b[0m | \u001b[95m 5.407   \u001b[0m | \u001b[95m 0.6296  \u001b[0m |\n",
      "[20000]\tcv_agg's auc: 0.662146 + 0.00137723\n",
      "[40000]\tcv_agg's auc: 0.662465 + 0.00109192\n",
      "| \u001b[95m 23      \u001b[0m | \u001b[95m 0.6625  \u001b[0m | \u001b[95m 0.1657  \u001b[0m | \u001b[95m 0.3337  \u001b[0m | \u001b[95m 20.12   \u001b[0m | \u001b[95m 5.336   \u001b[0m | \u001b[95m 5.234   \u001b[0m | \u001b[95m 0.8998  \u001b[0m |\n",
      "[20000]\tcv_agg's auc: 0.662124 + 0.00142519\n",
      "[40000]\tcv_agg's auc: 0.662445 + 0.00115747\n",
      "[60000]\tcv_agg's auc: 0.662499 + 0.00102638\n",
      "| \u001b[95m 24      \u001b[0m | \u001b[95m 0.6625  \u001b[0m | \u001b[95m 0.3128  \u001b[0m | \u001b[95m 0.8163  \u001b[0m | \u001b[95m 20.28   \u001b[0m | \u001b[95m 5.322   \u001b[0m | \u001b[95m 0.1484  \u001b[0m | \u001b[95m 0.757   \u001b[0m |\n",
      "[20000]\tcv_agg's auc: 0.661899 + 0.00109505\n",
      "| \u001b[0m 25      \u001b[0m | \u001b[0m 0.662   \u001b[0m | \u001b[0m 0.9356  \u001b[0m | \u001b[0m 0.9101  \u001b[0m | \u001b[0m 20.05   \u001b[0m | \u001b[0m 0.3804  \u001b[0m | \u001b[0m 5.232   \u001b[0m | \u001b[0m 0.1326  \u001b[0m |\n",
      "[20000]\tcv_agg's auc: 0.661523 + 0.00159761\n",
      "[40000]\tcv_agg's auc: 0.661959 + 0.00144643\n",
      "[60000]\tcv_agg's auc: 0.662115 + 0.00137345\n",
      "[80000]\tcv_agg's auc: 0.66217 + 0.00135622\n",
      "[100000]\tcv_agg's auc: 0.662194 + 0.00134198\n",
      "[120000]\tcv_agg's auc: 0.662205 + 0.00133099\n",
      "[140000]\tcv_agg's auc: 0.662213 + 0.00132223\n",
      "[160000]\tcv_agg's auc: 0.662218 + 0.00131487\n",
      "[180000]\tcv_agg's auc: 0.662221 + 0.00130934\n",
      "[200000]\tcv_agg's auc: 0.662222 + 0.00130489\n",
      "[220000]\tcv_agg's auc: 0.662224 + 0.00130172\n",
      "| \u001b[0m 26      \u001b[0m | \u001b[0m 0.6622  \u001b[0m | \u001b[0m 0.6466  \u001b[0m | \u001b[0m 0.5353  \u001b[0m | \u001b[0m 20.09   \u001b[0m | \u001b[0m 5.281   \u001b[0m | \u001b[0m 0.7871  \u001b[0m | \u001b[0m 0.3291  \u001b[0m |\n",
      "[20000]\tcv_agg's auc: 0.661422 + 0.00161549\n",
      "[40000]\tcv_agg's auc: 0.661858 + 0.00149524\n",
      "[60000]\tcv_agg's auc: 0.662018 + 0.001415\n",
      "[80000]\tcv_agg's auc: 0.662082 + 0.00138801\n",
      "[100000]\tcv_agg's auc: 0.662112 + 0.00137895\n",
      "[120000]\tcv_agg's auc: 0.662129 + 0.00137449\n",
      "[140000]\tcv_agg's auc: 0.662138 + 0.00137062\n",
      "[160000]\tcv_agg's auc: 0.662143 + 0.00136772\n",
      "[180000]\tcv_agg's auc: 0.662146 + 0.00136573\n",
      "[200000]\tcv_agg's auc: 0.662149 + 0.00136481\n",
      "[220000]\tcv_agg's auc: 0.66215 + 0.00136418\n",
      "| \u001b[0m 27      \u001b[0m | \u001b[0m 0.6622  \u001b[0m | \u001b[0m 0.765   \u001b[0m | \u001b[0m 0.4922  \u001b[0m | \u001b[0m 20.03   \u001b[0m | \u001b[0m 5.469   \u001b[0m | \u001b[0m 0.3032  \u001b[0m | \u001b[0m 0.3184  \u001b[0m |\n",
      "[20000]\tcv_agg's auc: 0.661568 + 0.00099646\n",
      "| \u001b[0m 28      \u001b[0m | \u001b[0m 0.6616  \u001b[0m | \u001b[0m 0.9572  \u001b[0m | \u001b[0m 0.474   \u001b[0m | \u001b[0m 20.07   \u001b[0m | \u001b[0m 0.3317  \u001b[0m | \u001b[0m 4.799   \u001b[0m | \u001b[0m 0.5819  \u001b[0m |\n",
      "[20000]\tcv_agg's auc: 0.662003 + 0.00147858\n",
      "[40000]\tcv_agg's auc: 0.66235 + 0.00124491\n",
      "[60000]\tcv_agg's auc: 0.662427 + 0.00111728\n",
      "| \u001b[0m 29      \u001b[0m | \u001b[0m 0.6624  \u001b[0m | \u001b[0m 0.1046  \u001b[0m | \u001b[0m 0.3944  \u001b[0m | \u001b[0m 199.8   \u001b[0m | \u001b[0m 5.396   \u001b[0m | \u001b[0m 0.4228  \u001b[0m | \u001b[0m 0.6051  \u001b[0m |\n",
      "[20000]\tcv_agg's auc: 0.65966 + 0.0017116\n",
      "[40000]\tcv_agg's auc: 0.659876 + 0.00176496\n",
      "[60000]\tcv_agg's auc: 0.659909 + 0.00177939\n",
      "[80000]\tcv_agg's auc: 0.659915 + 0.00178326\n",
      "[100000]\tcv_agg's auc: 0.659916 + 0.00178408\n",
      "[120000]\tcv_agg's auc: 0.659917 + 0.00178431\n",
      "[140000]\tcv_agg's auc: 0.659917 + 0.00178436\n",
      "| \u001b[0m 30      \u001b[0m | \u001b[0m 0.6599  \u001b[0m | \u001b[0m 0.5527  \u001b[0m | \u001b[0m 0.8234  \u001b[0m | \u001b[0m 199.6   \u001b[0m | \u001b[0m 5.405   \u001b[0m | \u001b[0m 0.9161  \u001b[0m | \u001b[0m 0.1573  \u001b[0m |\n",
      "[20000]\tcv_agg's auc: 0.659806 + 0.00172216\n",
      "[40000]\tcv_agg's auc: 0.660036 + 0.0017824\n",
      "[60000]\tcv_agg's auc: 0.660079 + 0.00180078\n",
      "[80000]\tcv_agg's auc: 0.660089 + 0.00180636\n",
      "[100000]\tcv_agg's auc: 0.660091 + 0.00180794\n",
      "[120000]\tcv_agg's auc: 0.660092 + 0.00180842\n",
      "[140000]\tcv_agg's auc: 0.660092 + 0.00180856\n",
      "[160000]\tcv_agg's auc: 0.660092 + 0.0018086\n",
      "| \u001b[0m 31      \u001b[0m | \u001b[0m 0.6601  \u001b[0m | \u001b[0m 0.4999  \u001b[0m | \u001b[0m 0.7408  \u001b[0m | \u001b[0m 20.23   \u001b[0m | \u001b[0m 4.706   \u001b[0m | \u001b[0m 0.3924  \u001b[0m | \u001b[0m 0.1427  \u001b[0m |\n",
      "[20000]\tcv_agg's auc: 0.662032 + 0.00114849\n",
      "| \u001b[0m 32      \u001b[0m | \u001b[0m 0.6622  \u001b[0m | \u001b[0m 0.9472  \u001b[0m | \u001b[0m 0.6852  \u001b[0m | \u001b[0m 20.09   \u001b[0m | \u001b[0m 2.269   \u001b[0m | \u001b[0m 5.302   \u001b[0m | \u001b[0m 0.8999  \u001b[0m |\n",
      "[20000]\tcv_agg's auc: 0.662094 + 0.00139521\n",
      "[40000]\tcv_agg's auc: 0.662387 + 0.00112372\n",
      "| \u001b[0m 33      \u001b[0m | \u001b[0m 0.6624  \u001b[0m | \u001b[0m 0.4834  \u001b[0m | \u001b[0m 0.6835  \u001b[0m | \u001b[0m 199.9   \u001b[0m | \u001b[0m 5.355   \u001b[0m | \u001b[0m 4.312   \u001b[0m | \u001b[0m 0.8167  \u001b[0m |\n",
      "[20000]\tcv_agg's auc: 0.661577 + 0.0010511\n",
      "| \u001b[0m 34      \u001b[0m | \u001b[0m 0.6617  \u001b[0m | \u001b[0m 0.8188  \u001b[0m | \u001b[0m 0.1816  \u001b[0m | \u001b[0m 199.8   \u001b[0m | \u001b[0m 1.118   \u001b[0m | \u001b[0m 5.238   \u001b[0m | \u001b[0m 0.7364  \u001b[0m |\n",
      "[20000]\tcv_agg's auc: 0.661997 + 0.00113515\n",
      "[40000]\tcv_agg's auc: 0.662161 + 0.000832721\n",
      "| \u001b[0m 35      \u001b[0m | \u001b[0m 0.6622  \u001b[0m | \u001b[0m 0.2517  \u001b[0m | \u001b[0m 0.7338  \u001b[0m | \u001b[0m 20.42   \u001b[0m | \u001b[0m 0.9151  \u001b[0m | \u001b[0m 5.463   \u001b[0m | \u001b[0m 0.2492  \u001b[0m |\n",
      "[20000]\tcv_agg's auc: 0.662024 + 0.00148479\n",
      "[40000]\tcv_agg's auc: 0.662378 + 0.00125771\n",
      "[60000]\tcv_agg's auc: 0.662465 + 0.00113961\n",
      "| \u001b[0m 36      \u001b[0m | \u001b[0m 0.6625  \u001b[0m | \u001b[0m 0.814   \u001b[0m | \u001b[0m 0.5677  \u001b[0m | \u001b[0m 20.57   \u001b[0m | \u001b[0m 5.37    \u001b[0m | \u001b[0m 5.214   \u001b[0m | \u001b[0m 0.5863  \u001b[0m |\n",
      "[20000]\tcv_agg's auc: 0.66212 + 0.00142365\n",
      "[40000]\tcv_agg's auc: 0.662436 + 0.00114004\n",
      "| \u001b[0m 37      \u001b[0m | \u001b[0m 0.6625  \u001b[0m | \u001b[0m 0.9628  \u001b[0m | \u001b[0m 0.8922  \u001b[0m | \u001b[0m 20.42   \u001b[0m | \u001b[0m 5.5     \u001b[0m | \u001b[0m 5.287   \u001b[0m | \u001b[0m 0.8017  \u001b[0m |\n",
      "[20000]\tcv_agg's auc: 0.662085 + 0.0014562\n",
      "[40000]\tcv_agg's auc: 0.662422 + 0.00119708\n",
      "[60000]\tcv_agg's auc: 0.662493 + 0.00106543\n",
      "| \u001b[0m 38      \u001b[0m | \u001b[0m 0.6625  \u001b[0m | \u001b[0m 0.6664  \u001b[0m | \u001b[0m 0.3994  \u001b[0m | \u001b[0m 20.14   \u001b[0m | \u001b[0m 5.352   \u001b[0m | \u001b[0m 4.743   \u001b[0m | \u001b[0m 0.6982  \u001b[0m |\n",
      "[20000]\tcv_agg's auc: 0.661909 + 0.00152374\n",
      "[40000]\tcv_agg's auc: 0.662279 + 0.00131234\n",
      "[60000]\tcv_agg's auc: 0.66238 + 0.00119824\n",
      "[80000]\tcv_agg's auc: 0.662415 + 0.0011069\n",
      "| \u001b[0m 39      \u001b[0m | \u001b[0m 0.6624  \u001b[0m | \u001b[0m 0.4331  \u001b[0m | \u001b[0m 0.3942  \u001b[0m | \u001b[0m 20.51   \u001b[0m | \u001b[0m 4.267   \u001b[0m | \u001b[0m 5.471   \u001b[0m | \u001b[0m 0.3945  \u001b[0m |\n",
      "[20000]\tcv_agg's auc: 0.661702 + 0.00118243\n",
      "[40000]\tcv_agg's auc: 0.66205 + 0.000971451\n",
      "[60000]\tcv_agg's auc: 0.662126 + 0.000846491\n",
      "| \u001b[0m 40      \u001b[0m | \u001b[0m 0.6621  \u001b[0m | \u001b[0m 0.3659  \u001b[0m | \u001b[0m 0.1405  \u001b[0m | \u001b[0m 20.51   \u001b[0m | \u001b[0m 4.882   \u001b[0m | \u001b[0m 5.054   \u001b[0m | \u001b[0m 0.7641  \u001b[0m |\n",
      "=================================================================================================\n"
     ]
    }
   ],
   "source": [
    "def bayes_parameter_opt_lgb(xtr, ytr, init_round=20, opt_round=20, n_folds=2, random_seed=300, n_estimators=500000, \n",
    "                            learning_rate=0.1, max_depth =1, num_leaves = 2, output_process=False):\n",
    "    train_data = lgb.Dataset(xtr, label = ytr)\n",
    "    def lgb_crossval(bagging_fraction,feature_fraction,reg_alpha,reg_lambda,min_child_samples,scale_pos_weight):\n",
    "        params = { \"objective\":'binary',\n",
    "             \"num_leaves\": num_leaves,\n",
    "             \"learning_rate\": learning_rate,\n",
    "             \"num_iterations\": n_estimators,\n",
    "             \"metric\": 'auc',\n",
    "             \"scale_pos_weight\": scale_pos_weight,\n",
    "             \"bagging_fraction\" : max(min(bagging_fraction,1), 0),\n",
    "             \"feature_fraction\" : max(min(feature_fraction,1), 0),\n",
    "             \"reg_alpha\" : max(reg_alpha,0),\n",
    "             \"reg_lambda\" : max(reg_lambda,0),\n",
    "             \"random_state\" : 0,\n",
    "             \"bagging_seed\" : random_seed,\n",
    "             \"verbosity\" : -1,\n",
    "             \"max_depth\": max_depth,\n",
    "             \"min_child_samples\": int(min_child_samples),\n",
    "             \"early_stopping_round\": 4000,\n",
    "             \"save_binary\": True}\n",
    "        cv_result = lgb.cv(params, train_data, nfold = n_folds, stratified = True, seed = random_seed, verbose_eval = 20000, \n",
    "                           metrics = ['auc'])\n",
    "        return max(cv_result['auc-mean'])\n",
    "    lgb_opt = BayesianOptimization(lgb_crossval,{\"bagging_fraction\":(0.1,1),\n",
    "                                            \"feature_fraction\":(0.1,1),\n",
    "                                            \"reg_alpha\":(0.1,5.5),\n",
    "                                            \"reg_lambda\":(0.1,5.5),\n",
    "                                            \"scale_pos_weight\": (0.1,0.9),\n",
    "                                            \"min_child_samples\":(20,200)},\n",
    "                                            random_state = 0)\n",
    "    lgb_opt.maximize(init_points = init_round, n_iter = opt_round)\n",
    "    return lgb_opt.max\n",
    "opt_params = bayes_parameter_opt_lgb(xtr, ytr, init_round=20, opt_round=20, n_folds=2, random_seed=300, n_estimators=500000, \n",
    "                                     learning_rate=0.1)"
   ]
  },
  {
   "cell_type": "code",
   "execution_count": 823,
   "metadata": {},
   "outputs": [
    {
     "name": "stdout",
     "output_type": "stream",
     "text": [
      "{'target': 0.6625086045198991, 'params': {'bagging_fraction': 0.3128269186616841, 'feature_fraction': 0.8163226880143511, 'min_child_samples': 20.283533702657603, 'reg_alpha': 5.322253641935961, 'reg_lambda': 0.14836246605938477, 'scale_pos_weight': 0.7570120593192112}}\n"
     ]
    }
   ],
   "source": [
    "print(opt_params)"
   ]
  },
  {
   "cell_type": "code",
   "execution_count": 838,
   "metadata": {},
   "outputs": [
    {
     "name": "stdout",
     "output_type": "stream",
     "text": [
      "Training until validation scores don't improve for 4000 rounds.\n",
      "[2000]\tvalid_0's auc: 0.654532\n",
      "[4000]\tvalid_0's auc: 0.656064\n",
      "[6000]\tvalid_0's auc: 0.657139\n",
      "[8000]\tvalid_0's auc: 0.657487\n",
      "[10000]\tvalid_0's auc: 0.656973\n",
      "[12000]\tvalid_0's auc: 0.657571\n",
      "[14000]\tvalid_0's auc: 0.657525\n",
      "[16000]\tvalid_0's auc: 0.657316\n",
      "[18000]\tvalid_0's auc: 0.65796\n",
      "[20000]\tvalid_0's auc: 0.658329\n",
      "[22000]\tvalid_0's auc: 0.657599\n",
      "Early stopping, best iteration is:\n",
      "[18787]\tvalid_0's auc: 0.658453\n"
     ]
    }
   ],
   "source": [
    "param = {\"num_leaves\": 2,\n",
    "         \"learning_rate\": 0.1,\n",
    "         \"objective\":'binary', \n",
    "         \"scale_pos_weight\": 0.7570120593192112,\n",
    "         \"metric\": 'auc',\n",
    "        \"bagging_fraction\" : 0.3128269186616841,\n",
    "        \"feature_fraction\" : 0.8163226880143511,\n",
    "        \"bagging_freq\" : 2,\n",
    "        \"reg_alpha\" : 5.322253641935961,\n",
    "        \"reg_lambda\" : 0.14836246605938477,\n",
    "        \"random_state\" : 0,\n",
    "        \"bagging_seed\" : 300,\n",
    "        \"verbosity\" : -1,\n",
    "        \"max_depth\": 1,\n",
    "        \"min_child_samples\": 20,\n",
    "        \"save_binary\": True}\n",
    "mlgb = lgb.train(param, train_data, 500000, valid_sets = [val_data], early_stopping_rounds = 4000, verbose_eval=2000)"
   ]
  }
 ],
 "metadata": {
  "kernelspec": {
   "display_name": "Python 3",
   "language": "python",
   "name": "python3"
  },
  "language_info": {
   "codemirror_mode": {
    "name": "ipython",
    "version": 3
   },
   "file_extension": ".py",
   "mimetype": "text/x-python",
   "name": "python",
   "nbconvert_exporter": "python",
   "pygments_lexer": "ipython3",
   "version": "3.7.3"
  }
 },
 "nbformat": 4,
 "nbformat_minor": 2
}
